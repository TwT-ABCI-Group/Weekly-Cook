{
 "cells": [
  {
   "cell_type": "markdown",
   "source": [
    "## Names Analysis Exercise"
   ],
   "metadata": {
    "collapsed": false
   },
   "id": "378c63e56e39556b"
  },
  {
   "cell_type": "markdown",
   "source": [
    "### 0. 数据集描述\n",
    "\n",
    "美国社会保障管理局（SSA）提供了一份从1880年至今的婴儿名字频率数据集。详见项目文件`\\data\\names.zip`文件。对文件进行解压后我们可以得到一组类似`yob1880.txt`的分年份的文件。该文数据集中的文件中的数据是非常标准的CSV（逗号分隔格式）文件，因此我们可以直接使用pandas的`read_csv()`方法进行读取。需要注意的是，该数据集的原始数据文件中并不包含列名，这也就意味着，我们在使用之前需要对数据进行一定的数据规整，并为数据手动添加列名，规整完的数据主要包括name、sex、births、year四个字段。\n",
    "\n",
    "**最终处理的到的该数据集中的字段描述**：\n",
    "- name: 本年份统计的婴儿名字\n",
    "- sex: 名字对应的性别\n",
    "- births: 名字对应的新生儿频数\n",
    "- year: 统计年份\n",
    "\n",
    "更具体的数据集描述可以进一步阅读`NationalReadMe.pdf`"
   ],
   "metadata": {
    "collapsed": false
   },
   "id": "b356b76109a992d0"
  },
  {
   "cell_type": "markdown",
   "source": [
    "### 1. 加载与查看数据\n",
    "\n",
    "使用pandas对数据进行处理，首先导入pandas库与numpy库："
   ],
   "metadata": {
    "collapsed": false
   },
   "id": "fbe9ce514c13fe0e"
  },
  {
   "cell_type": "code",
   "execution_count": null,
   "outputs": [],
   "source": [],
   "metadata": {
    "collapsed": false
   },
   "id": "2a8ca611ce606b54"
  },
  {
   "cell_type": "markdown",
   "source": [
    "#### 1.1 数据预览\n",
    "\n",
    "**将数据加载到Dataframe中**\n",
    "\n",
    "我们首先加载数据集的第一个数据文件`yob1880.txt`对数据进行预览，初始的数据仅包含name、sex、births——姓名、性别、出生人数三列数据。使用`pd.read_csv()`或者`pd.read_txt()`均可将数据加载到Dataframe中，并规定字段名称为name、sex、births："
   ],
   "metadata": {
    "collapsed": false
   },
   "id": "7a6da24b191de586"
  },
  {
   "cell_type": "code",
   "execution_count": null,
   "outputs": [],
   "source": [],
   "metadata": {
    "collapsed": false
   },
   "id": "530a4d1dea18d502"
  },
  {
   "cell_type": "markdown",
   "source": [
    "**统计年度出生总人数**\n",
    "\n",
    "通过阅读详细的数据描述我们可以知道该数据集中只包含当年超过五次的数据，因此，为了简单起见，我们可以使用按照性别列出的出生人口数作为年度的出生总数，我们可以使用`groupby`方法结合`sum()`求和来实现此操作："
   ],
   "metadata": {
    "collapsed": false
   },
   "id": "9d310513d1649f5f"
  },
  {
   "cell_type": "code",
   "execution_count": null,
   "outputs": [],
   "source": [],
   "metadata": {
    "collapsed": false
   },
   "id": "e53392bbcef39d40"
  },
  {
   "cell_type": "markdown",
   "source": [
    "#### 1.2 数据整合\n",
    "\n",
    "由于该数据集按照年份分成了多个文件，为了处理方便我们希望将数据合并到一个Dataframe中，并为数据加上一个表明年份的字段year。这涉及到合并操作，我们使用`pd.concat()`方法即可完成相关操作。但是需要注意的一点是，我们在合并的过程中并不希望保留读取时的默认行号，一次需要设置`pd.concat`的`ignore_index`参数为Ture。\n",
    "\n",
    "操作思路：\n",
    "\n",
    "1. 创建一个用来保存每年数据的列表。\n",
    "2. 将文件路径赋值给一个字符串，按照文件的年份规律更新文件路径。\n",
    "3. 将整个操作放入循环中，循环读取每个年份的文件，并将数据更新到列表中。\n",
    "4. 对保存了每年数据的列表使用concat操作，合并数据，得到dataframe。"
   ],
   "metadata": {
    "collapsed": false
   },
   "id": "851c4b96910252b8"
  },
  {
   "cell_type": "code",
   "execution_count": null,
   "outputs": [],
   "source": [],
   "metadata": {
    "collapsed": false
   },
   "id": "34574c858207db46"
  },
  {
   "cell_type": "markdown",
   "source": [
    "以上我们得到了我们最终的数据集的Dataframe，我们可以在这个Dataframe上进行进一步的数据统计与分析。"
   ],
   "metadata": {
    "collapsed": false
   },
   "id": "91b2a99accbe187d"
  },
  {
   "cell_type": "markdown",
   "source": [
    "### 2. 出生数统计与姓名比例计算\n",
    "\n",
    "在得到了包含所有年份的全部姓名数据的Dataframe后，我们在该数据上继续进行操作。我们要按年份统计出各个名字的婴儿相对于当年总出生人数的比例，要进行该操作，首先我们要按照年份与性别（因为名字与性别相关）统计出生人口总数，并将每个名字按照性别的对应人数与之相比。\n",
    "\n",
    "**按年份与性别统计出生人数**\n",
    "\n",
    "我们可以使用`pd.groupby`或者`pd.pivot_table`方法来在年份与性别层级上对数据进行聚合，然后使用`sum()`方法（groupby）或者设置`aggfun`参数（pivot_table）对其进行统计加总，得到按年份与性别的出生人数："
   ],
   "metadata": {
    "collapsed": false
   },
   "id": "46d8f4bd71a40aa5"
  },
  {
   "cell_type": "code",
   "execution_count": null,
   "outputs": [],
   "source": [],
   "metadata": {
    "collapsed": false
   },
   "id": "e225da4db4d395e7"
  },
  {
   "cell_type": "markdown",
   "source": [
    "然后我们可以进一步画出按年龄的随年份变化的出生人口数的图像，直观的观察每一年的人口变化："
   ],
   "metadata": {
    "collapsed": false
   },
   "id": "4c3c3115c0ad7bd9"
  },
  {
   "cell_type": "code",
   "execution_count": null,
   "outputs": [],
   "source": [],
   "metadata": {
    "collapsed": false
   },
   "id": "5ef798555a443d3d"
  },
  {
   "cell_type": "markdown",
   "source": [
    "**统计新生儿姓名比例**\n",
    "\n",
    "得到出生婴儿总数数据后，我们接下来需要在表中插入一个prop列，用于存放指定名字的婴儿数相对于出生总数的比例。我们项按照年份与性别进行分组，然后计算比例，然后再将这个列添加到各个分组上。"
   ],
   "metadata": {
    "collapsed": false
   },
   "id": "1e124c54ca71b83"
  },
  {
   "cell_type": "code",
   "execution_count": null,
   "outputs": [],
   "source": [],
   "metadata": {
    "collapsed": false
   },
   "id": "58bfb643bc57e17c"
  },
  {
   "cell_type": "code",
   "execution_count": null,
   "outputs": [],
   "source": [],
   "metadata": {
    "collapsed": false
   },
   "id": "51a7786a4c20aa86"
  },
  {
   "cell_type": "code",
   "execution_count": null,
   "outputs": [],
   "source": [],
   "metadata": {
    "collapsed": false
   },
   "id": "e2009975c3995a4e"
  },
  {
   "cell_type": "markdown",
   "source": [
    "**数据完整性检验**\n",
    "\n",
    "在对数据进行分组操作后，我们有必要对数据进行一个完整性检验。对于该数据集的一个可能的思路是，我们可以验证所有分组的prop列的和是否为1："
   ],
   "metadata": {
    "collapsed": false
   },
   "id": "c6e196368c4f0f16"
  },
  {
   "cell_type": "code",
   "execution_count": null,
   "outputs": [],
   "source": [],
   "metadata": {
    "collapsed": false
   },
   "id": "399d653b4e96130d"
  },
  {
   "cell_type": "markdown",
   "source": [
    "**取数据的子集进行进一步分析**\n",
    "\n",
    "完成完整性检查后，为了便于进一步分析，我们需要取出该数据集的一个子集——对每对sex/year组合的前1000个名字。我们继续进行分组操作："
   ],
   "metadata": {
    "collapsed": false
   },
   "id": "1f76014f205cc452"
  },
  {
   "cell_type": "code",
   "execution_count": null,
   "outputs": [],
   "source": [],
   "metadata": {
    "collapsed": false
   },
   "id": "9cabb48a2ea7d432"
  },
  {
   "cell_type": "code",
   "execution_count": null,
   "outputs": [],
   "source": [],
   "metadata": {
    "collapsed": false
   },
   "id": "4ec2452672e1e0e9"
  },
  {
   "cell_type": "markdown",
   "source": [
    "使用`len()`方法查看数据集的长度"
   ],
   "metadata": {
    "collapsed": false
   },
   "id": "e1b93b2b0b7a7116"
  },
  {
   "cell_type": "code",
   "execution_count": null,
   "outputs": [],
   "source": [],
   "metadata": {
    "collapsed": false
   },
   "id": "dac4b2c3b4edd335"
  },
  {
   "cell_type": "markdown",
   "source": [
    "### 3. 分析名字趋势\n",
    "\n",
    "在获得处理完成的数据集后，我们有进一步获得了前1000的数据集，接下来我们就可以着手分析各种名字的趋势了\n",
    "\n",
    "#### 3.1 几个常见男孩与女孩名字的变化趋势\n",
    "\n",
    "首先，我们将前1000个名字按照性别分为男女两个部分，在这里我们运用一个简单的布尔索引即可完成。我们最终可以得到两个简单的时间序列，只需稍作整理就可以绘制出相应的图表。我们首先来看几个常见名字的数量趋势——John、Mary、Harry、Marilyn\n",
    "\n",
    "1. 将top1000的数据分为男女两个部分"
   ],
   "metadata": {
    "collapsed": false
   },
   "id": "3c015b774a3480b6"
  },
  {
   "cell_type": "code",
   "execution_count": null,
   "outputs": [],
   "source": [],
   "metadata": {
    "collapsed": false
   },
   "id": "f4e60840bcd8abb7"
  },
  {
   "cell_type": "markdown",
   "source": [
    "2. 生成一张按年与名字统计的总数透表"
   ],
   "metadata": {
    "collapsed": false
   },
   "id": "f2d3db0bdb2a668a"
  },
  {
   "cell_type": "code",
   "execution_count": null,
   "outputs": [],
   "source": [],
   "metadata": {
    "collapsed": false
   },
   "id": "5256525685cbe654"
  },
  {
   "cell_type": "markdown",
   "source": [
    "3. 使用`info()`方法查看表格的总体信息，然后使用`plot`方法来绘制几个名字的曲线图"
   ],
   "metadata": {
    "collapsed": false
   },
   "id": "dad1fb4db1f508fe"
  },
  {
   "cell_type": "code",
   "execution_count": null,
   "outputs": [],
   "source": [],
   "metadata": {
    "collapsed": false
   },
   "id": "545821b5ea446c23"
  },
  {
   "cell_type": "code",
   "execution_count": null,
   "outputs": [],
   "source": [],
   "metadata": {
    "collapsed": false
   },
   "id": "5294a703ee9061e8"
  },
  {
   "cell_type": "markdown",
   "source": [
    "*结论：* 从图中可以看出，这几个常见的名字随时间的推移，他们在美国人的心中已经风光不再了。接下来我们将继续探索其中的缘由。 "
   ],
   "metadata": {
    "collapsed": false
   },
   "id": "e199e90964593b1"
  },
  {
   "cell_type": "markdown",
   "source": [
    "#### 3.2 评估姓名多样性的增长\n",
    "\n",
    "常见姓名趋势下降的一个常见的解释是越来越少的父母愿意给小孩起常见的名字，我们可以从简单的聚合与绘图操作中验证这个解释：\n",
    "\n",
    "1. 计算最流行的1000个名字所占的出生比例"
   ],
   "metadata": {
    "collapsed": false
   },
   "id": "a42a1df2472db764"
  },
  {
   "cell_type": "code",
   "execution_count": null,
   "outputs": [],
   "source": [],
   "metadata": {
    "collapsed": false
   },
   "id": "c42b17191d78f917"
  },
  {
   "cell_type": "markdown",
   "source": [
    "2. 按照性别与年份进行聚合，并绘图"
   ],
   "metadata": {
    "collapsed": false
   },
   "id": "7bc4b073f3cae1ff"
  },
  {
   "cell_type": "code",
   "execution_count": null,
   "outputs": [],
   "source": [],
   "metadata": {
    "collapsed": false
   },
   "id": "184be709f04d6316"
  },
  {
   "cell_type": "markdown",
   "source": [
    "从图中我们可以看出，名字的多样性确实得到了增长，因为top1000各名字所占的总比例逐渐降低，说明姓名总数增加。另一个可行的办法是我们可以计算占出生人口前50%的不同名字的数量，并按照守护欢迎的程度从高到低进行排序。\n",
    "\n",
    "1. 首先只考虑2010年的男孩名字"
   ],
   "metadata": {
    "collapsed": false
   },
   "id": "e91754fd1df14104"
  },
  {
   "cell_type": "code",
   "execution_count": null,
   "outputs": [],
   "source": [],
   "metadata": {
    "collapsed": false
   },
   "id": "b060f6709b12170a"
  },
  {
   "cell_type": "markdown",
   "source": [
    "2. 对prop进行降序排列，使用numpy计算需要多少最受欢迎的名字才能使得人数加起来等于50%。先计算prop的累计与`cusum`，然后通过`searchsorted`方法找出0.5应该被插入那个位置才不会破坏顺序"
   ],
   "metadata": {
    "collapsed": false
   },
   "id": "534b9704911f034e"
  },
  {
   "cell_type": "code",
   "execution_count": null,
   "outputs": [],
   "source": [],
   "metadata": {
    "collapsed": false
   },
   "id": "c3abe1c1fb7cb715"
  },
  {
   "cell_type": "markdown",
   "source": [
    "3. 对各个year/sex应用该函数。按照这两个字段进行groupby处理，然后通过applu计算各分组的计数。"
   ],
   "metadata": {
    "collapsed": false
   },
   "id": "6c13879619d3e3b1"
  },
  {
   "cell_type": "code",
   "execution_count": null,
   "outputs": [],
   "source": [],
   "metadata": {
    "collapsed": false
   },
   "id": "72e332b09fd48d3c"
  },
  {
   "cell_type": "markdown",
   "source": [
    "4. 对得到的姓名多样性进行绘图"
   ],
   "metadata": {
    "collapsed": false
   },
   "id": "e989ee5c29317e44"
  },
  {
   "cell_type": "code",
   "execution_count": null,
   "outputs": [],
   "source": [],
   "metadata": {
    "collapsed": false
   },
   "id": "b689c26d19a3e08f"
  },
  {
   "cell_type": "markdown",
   "source": [
    "*结论：* 从图中可以看出，女孩名字总比男孩名字更多样，而且岁之间推移这种多样性的差别还在加大。我们可以继续探究是什么导致/驱动多样性的变化，比如拼写形式的变化。"
   ],
   "metadata": {
    "collapsed": false
   },
   "id": "99e275ba1dc939a8"
  },
  {
   "cell_type": "markdown",
   "source": [
    "#### 3.3 “One Last Letter”的变化\n",
    "\n",
    "一位婴儿姓名研究人员Laurra Wattenberg在2007年曾指出，近百年来，男孩名字的最后一个字母的分布发生了显著的变化。接下来我们可以来具体的探究一下关于男孩姓名最后一个字母的变革的现象。\n",
    "\n",
    "**各年度分性别的姓名最后一个字母比例统计**\n",
    "\n",
    "为了了解具体的情况，我们首先将全部出生数据按照年度、性别以及末字母进行聚合。我们可以使用`pd.map()`方法来将姓名的尾字母映射到Dataframe上。"
   ],
   "metadata": {
    "collapsed": false
   },
   "id": "b707a11695b286c0"
  },
  {
   "cell_type": "code",
   "execution_count": null,
   "outputs": [],
   "source": [],
   "metadata": {
    "collapsed": false
   },
   "id": "2dacfcb9b13cf2c9"
  },
  {
   "cell_type": "code",
   "execution_count": null,
   "outputs": [],
   "source": [],
   "metadata": {
    "collapsed": false
   },
   "id": "dd11445125554e75"
  },
  {
   "cell_type": "markdown",
   "source": [
    "我们选取出其中最具代表性的三年——1910、1960、2010，并打印出前三行的数据进行查看"
   ],
   "metadata": {
    "collapsed": false
   },
   "id": "5f48fcba8c631ef4"
  },
  {
   "cell_type": "code",
   "execution_count": null,
   "outputs": [],
   "source": [],
   "metadata": {
    "collapsed": false
   },
   "id": "66a9e9b83074742c"
  },
  {
   "cell_type": "markdown",
   "source": [
    "接下来，我们统计出生总数，按照出生总数对该表进行标准化处理，以便计算出一个新表格，我们希望其中包括每个字母结尾的性别占出生总人数的比例。"
   ],
   "metadata": {
    "collapsed": false
   },
   "id": "1408f556609519f5"
  },
  {
   "cell_type": "code",
   "execution_count": null,
   "outputs": [],
   "source": [],
   "metadata": {
    "collapsed": false
   },
   "id": "834061d018287936"
  },
  {
   "cell_type": "code",
   "execution_count": null,
   "outputs": [],
   "source": [],
   "metadata": {
    "collapsed": false
   },
   "id": "4e5a98771a2b891a"
  },
  {
   "cell_type": "code",
   "execution_count": null,
   "outputs": [],
   "source": [],
   "metadata": {
    "collapsed": false
   },
   "id": "b24b50117fb0fcd8"
  },
  {
   "cell_type": "markdown",
   "source": [
    "得到上述比例表后，我们就能够生成一张年度各性别的柱状图："
   ],
   "metadata": {
    "collapsed": false
   },
   "id": "be4e3243f59a0bc9"
  },
  {
   "cell_type": "code",
   "execution_count": null,
   "outputs": [],
   "source": [],
   "metadata": {
    "collapsed": false
   },
   "id": "ba8e029a19d565f"
  },
  {
   "cell_type": "markdown",
   "source": [
    "可以看出，从20世纪60年代开始，以字母‘n’结尾的男孩姓名出现了显著增长。为了更显示的展示，我们可以使用之前创建的完整表格，按照年度与性别对其进行标准化处理，最后专职将各列转换成时间序列，之后绘制出趋势图。"
   ],
   "metadata": {
    "collapsed": false
   },
   "id": "fe58ce47805e4c39"
  },
  {
   "cell_type": "code",
   "execution_count": null,
   "outputs": [],
   "source": [],
   "metadata": {
    "collapsed": false
   },
   "id": "ec77d703a4da452c"
  },
  {
   "cell_type": "code",
   "execution_count": null,
   "outputs": [],
   "source": [],
   "metadata": {
    "collapsed": false
   },
   "id": "73fc73639bf51941"
  },
  {
   "cell_type": "markdown",
   "source": [
    "#### 3.4 姓名性别互换（男孩名字变成女孩名字以及相反的情况）\n",
    "\n",
    "除了上述我们探索的几种情况之外，另一个有趣的趋势是早年流行于样本中某个性别的名字进来发生了“变性”，例如：Lesly与Leslie两个名字。我们一这两个名字为例对该现象进行探究。\n",
    "\n",
    "1. 首先我们回到top1000的表格中，计算得到以‘Lesl’开头的名字列表。首先使用`unique`方法得到姓名的列表，及去掉重复的名字，然后选择以‘Lesl’开头的名字。"
   ],
   "metadata": {
    "collapsed": false
   },
   "id": "c013ee267ae6afd2"
  },
  {
   "cell_type": "code",
   "execution_count": null,
   "outputs": [],
   "source": [],
   "metadata": {
    "collapsed": false
   },
   "id": "d1fa4318096ae1c3"
  },
  {
   "cell_type": "code",
   "execution_count": null,
   "outputs": [],
   "source": [],
   "metadata": {
    "collapsed": false
   },
   "id": "a776182d1a52e614"
  },
  {
   "cell_type": "code",
   "execution_count": null,
   "outputs": [],
   "source": [],
   "metadata": {
    "collapsed": false
   },
   "id": "b410ae37f042eab8"
  },
  {
   "cell_type": "markdown",
   "source": [
    "2. 利用上述结果过滤名字，并且按照名字分组计算出生总数一查看相对频率。"
   ],
   "metadata": {
    "collapsed": false
   },
   "id": "67536072b8843cb1"
  },
  {
   "cell_type": "code",
   "execution_count": null,
   "outputs": [],
   "source": [],
   "metadata": {
    "collapsed": false
   },
   "id": "be3cb5709fbd30e"
  },
  {
   "cell_type": "markdown",
   "source": [
    "3. 按照性别与年度进行聚合，并按照年度进行标准化处理。"
   ],
   "metadata": {
    "collapsed": false
   },
   "id": "7b0089d72181170f"
  },
  {
   "cell_type": "code",
   "execution_count": null,
   "outputs": [],
   "source": [],
   "metadata": {
    "collapsed": false
   },
   "id": "7312e95fbe04eea4"
  },
  {
   "cell_type": "markdown",
   "source": [
    "4. 最终可以绘制出对应的趋势图"
   ],
   "metadata": {
    "collapsed": false
   },
   "id": "3060872530b7909d"
  },
  {
   "cell_type": "code",
   "execution_count": null,
   "outputs": [],
   "source": [],
   "metadata": {
    "collapsed": false
   },
   "id": "6d055413f161cbab"
  },
  {
   "cell_type": "markdown",
   "source": [
    "可以看出使用'Lesley'式的名字的趋势的性别比例发生了反转。"
   ],
   "metadata": {
    "collapsed": false
   },
   "id": "e5f24c3e729d668b"
  },
  {
   "cell_type": "markdown",
   "source": [
    "### 4. 总结\n",
    "\n",
    "请在这里写下你的结论与感悟~\n",
    "我们也期待着大家的建议！"
   ],
   "metadata": {
    "collapsed": false
   },
   "id": "d36ad025a7a94f2f"
  },
  {
   "cell_type": "markdown",
   "source": [
    "### 附录\n",
    "\n",
    "大家可以在这一部分继续自己对于该数据集的探索，我们鼓励大家自己进行数据探索并得到一些有趣的结论~ "
   ],
   "metadata": {
    "collapsed": false
   },
   "id": "7d4023123038e162"
  }
 ],
 "metadata": {
  "kernelspec": {
   "display_name": "Python 3",
   "language": "python",
   "name": "python3"
  },
  "language_info": {
   "codemirror_mode": {
    "name": "ipython",
    "version": 2
   },
   "file_extension": ".py",
   "mimetype": "text/x-python",
   "name": "python",
   "nbconvert_exporter": "python",
   "pygments_lexer": "ipython2",
   "version": "2.7.6"
  }
 },
 "nbformat": 4,
 "nbformat_minor": 5
}
