{
 "cells": [
  {
   "cell_type": "markdown",
   "id": "378c63e56e39556b",
   "metadata": {
    "collapsed": false
   },
   "source": [
    "## Names Analysis Exercise"
   ]
  },
  {
   "cell_type": "markdown",
   "id": "b356b76109a992d0",
   "metadata": {
    "collapsed": false
   },
   "source": [
    "### 0. 数据集描述\n",
    "\n",
    "美国社会保障管理局（SSA）提供了一份从1880年至今的婴儿名字频率数据集。详见项目文件`\\data\\names.zip`文件。对文件进行解压后我们可以得到一组类似`yob1880.txt`的分年份的文件。该文数据集中的文件中的数据是非常标准的CSV（逗号分隔格式）文件，因此我们可以直接使用pandas的`read_csv()`方法进行读取。需要注意的是，该数据集的原始数据文件中并不包含列名，这也就意味着，我们在使用之前需要对数据进行一定的数据规整，并为数据手动添加列名，规整完的数据主要包括name、sex、births、year四个字段。\n",
    "\n",
    "**最终处理的到的该数据集中的字段描述**：\n",
    "- name: 本年份统计的婴儿名字\n",
    "- sex: 名字对应的性别\n",
    "- births: 名字对应的新生儿频数\n",
    "- year: 统计年份\n",
    "\n",
    "更具体的数据集描述可以进一步阅读`NationalReadMe.pdf`"
   ]
  },
  {
   "cell_type": "markdown",
   "id": "fbe9ce514c13fe0e",
   "metadata": {
    "collapsed": false
   },
   "source": [
    "### 1. 加载与查看数据\n",
    "\n",
    "使用pandas对数据进行处理，首先导入pandas库与numpy库："
   ]
  },
  {
   "cell_type": "code",
   "execution_count": 1,
   "id": "2a8ca611ce606b54",
   "metadata": {
    "collapsed": false
   },
   "outputs": [],
   "source": [
    "import pandas as pd\n",
    "import numpy as np"
   ]
  },
  {
   "cell_type": "markdown",
   "id": "7a6da24b191de586",
   "metadata": {
    "collapsed": false
   },
   "source": [
    "#### 1.1 数据预览\n",
    "\n",
    "**将数据加载到Dataframe中**\n",
    "\n",
    "我们首先加载数据集的第一个数据文件`yob1880.txt`对数据进行预览，初始的数据仅包含name、sex、births——姓名、性别、出生人数三列数据。使用`pd.read_csv()`或者`pd.read_txt()`均可将数据加载到Dataframe中，并规定字段名称为name、sex、births："
   ]
  },
  {
   "cell_type": "code",
   "execution_count": 17,
   "id": "530a4d1dea18d502",
   "metadata": {
    "collapsed": false
   },
   "outputs": [
    {
     "name": "stdout",
     "output_type": "stream",
     "text": [
      "D:\\Code\\Gitcodes\\TWT_AIgroup\\Weekly-Cook\\Week2\\names\\data\\names\n",
      "D:\\Code\\Gitcodes\\TWT_AIgroup\\Weekly-Cook\\Week2\\names\\data\\names\n"
     ]
    }
   ],
   "source": [
    "import os\n",
    "print(os.getcwd())\n",
    "os.chdir('D:/Code/Gitcodes/TWT_AIgroup/Weekly-Cook/Week2/names/data/names')\n",
    "print(os.getcwd())\n",
    "\n",
    "data_path = 'D:/Code/Gitcodes/TWT_AIgroup/Weekly-Cook/Week2/names/data/names/yob1880.txt'\n",
    "df_1880 = pd.read_csv(data_path,names=['name', 'sex', 'births'])"
   ]
  },
  {
   "cell_type": "markdown",
   "id": "9d310513d1649f5f",
   "metadata": {
    "collapsed": false
   },
   "source": [
    "**统计年度出生总人数**\n",
    "\n",
    "通过阅读详细的数据描述我们可以知道该数据集中只包含当年超过五次的数据，因此，为了简单起见，我们可以使用按照性别列出的出生人口数作为年度的出生总数，我们可以使用`groupby`方法结合`sum()`求和来实现此操作："
   ]
  },
  {
   "cell_type": "code",
   "execution_count": 25,
   "id": "e53392bbcef39d40",
   "metadata": {
    "collapsed": false
   },
   "outputs": [
    {
     "name": "stdout",
     "output_type": "stream",
     "text": [
      "sex\n",
      "F     90994\n",
      "M    110490\n",
      "Name: births, dtype: int64\n"
     ]
    }
   ],
   "source": [
    "df_1880\n",
    "\n",
    "total_births = df_1880.groupby('sex') ['births'].sum()\n",
    "print(total_births)"
   ]
  },
  {
   "cell_type": "markdown",
   "id": "851c4b96910252b8",
   "metadata": {
    "collapsed": false
   },
   "source": [
    "#### 1.2 数据整合\n",
    "\n",
    "由于该数据集按照年份分成了多个文件，为了处理方便我们希望将数据合并到一个Dataframe中，并为数据加上一个表明年份的字段year。这涉及到合并操作，我们使用`pd.concat()`方法即可完成相关操作。但是需要注意的一点是，我们在合并的过程中并不希望保留读取时的默认行号，一次需要设置`pd.concat`的`ignore_index`参数为Ture。\n",
    "\n",
    "操作思路：\n",
    "\n",
    "1. 创建一个用来保存每年数据的列表。\n",
    "2. 将文件路径赋值给一个字符串，按照文件的年份规律更新文件路径。\n",
    "3. 将整个操作放入循环中，循环读取每个年份的文件，并将数据更新到列表中。\n",
    "4. 对保存了每年数据的列表使用concat操作，合并数据，得到dataframe。"
   ]
  },
  {
   "cell_type": "code",
   "execution_count": 24,
   "id": "34574c858207db46",
   "metadata": {
    "collapsed": false
   },
   "outputs": [
    {
     "data": {
      "text/html": [
       "<div>\n",
       "<style scoped>\n",
       "    .dataframe tbody tr th:only-of-type {\n",
       "        vertical-align: middle;\n",
       "    }\n",
       "\n",
       "    .dataframe tbody tr th {\n",
       "        vertical-align: top;\n",
       "    }\n",
       "\n",
       "    .dataframe thead th {\n",
       "        text-align: right;\n",
       "    }\n",
       "</style>\n",
       "<table border=\"1\" class=\"dataframe\">\n",
       "  <thead>\n",
       "    <tr style=\"text-align: right;\">\n",
       "      <th></th>\n",
       "      <th>name</th>\n",
       "      <th>sex</th>\n",
       "      <th>births</th>\n",
       "      <th>year</th>\n",
       "    </tr>\n",
       "  </thead>\n",
       "  <tbody>\n",
       "    <tr>\n",
       "      <th>0</th>\n",
       "      <td>Mary</td>\n",
       "      <td>F</td>\n",
       "      <td>7065</td>\n",
       "      <td>1880</td>\n",
       "    </tr>\n",
       "    <tr>\n",
       "      <th>1</th>\n",
       "      <td>Anna</td>\n",
       "      <td>F</td>\n",
       "      <td>2604</td>\n",
       "      <td>1880</td>\n",
       "    </tr>\n",
       "    <tr>\n",
       "      <th>2</th>\n",
       "      <td>Emma</td>\n",
       "      <td>F</td>\n",
       "      <td>2003</td>\n",
       "      <td>1880</td>\n",
       "    </tr>\n",
       "    <tr>\n",
       "      <th>3</th>\n",
       "      <td>Elizabeth</td>\n",
       "      <td>F</td>\n",
       "      <td>1939</td>\n",
       "      <td>1880</td>\n",
       "    </tr>\n",
       "    <tr>\n",
       "      <th>4</th>\n",
       "      <td>Minnie</td>\n",
       "      <td>F</td>\n",
       "      <td>1746</td>\n",
       "      <td>1880</td>\n",
       "    </tr>\n",
       "    <tr>\n",
       "      <th>...</th>\n",
       "      <td>...</td>\n",
       "      <td>...</td>\n",
       "      <td>...</td>\n",
       "      <td>...</td>\n",
       "    </tr>\n",
       "    <tr>\n",
       "      <th>2117214</th>\n",
       "      <td>Zyell</td>\n",
       "      <td>M</td>\n",
       "      <td>5</td>\n",
       "      <td>2023</td>\n",
       "    </tr>\n",
       "    <tr>\n",
       "      <th>2117215</th>\n",
       "      <td>Zyen</td>\n",
       "      <td>M</td>\n",
       "      <td>5</td>\n",
       "      <td>2023</td>\n",
       "    </tr>\n",
       "    <tr>\n",
       "      <th>2117216</th>\n",
       "      <td>Zymirr</td>\n",
       "      <td>M</td>\n",
       "      <td>5</td>\n",
       "      <td>2023</td>\n",
       "    </tr>\n",
       "    <tr>\n",
       "      <th>2117217</th>\n",
       "      <td>Zyquan</td>\n",
       "      <td>M</td>\n",
       "      <td>5</td>\n",
       "      <td>2023</td>\n",
       "    </tr>\n",
       "    <tr>\n",
       "      <th>2117218</th>\n",
       "      <td>Zyrin</td>\n",
       "      <td>M</td>\n",
       "      <td>5</td>\n",
       "      <td>2023</td>\n",
       "    </tr>\n",
       "  </tbody>\n",
       "</table>\n",
       "<p>2117219 rows × 4 columns</p>\n",
       "</div>"
      ],
      "text/plain": [
       "              name sex  births  year\n",
       "0             Mary   F    7065  1880\n",
       "1             Anna   F    2604  1880\n",
       "2             Emma   F    2003  1880\n",
       "3        Elizabeth   F    1939  1880\n",
       "4           Minnie   F    1746  1880\n",
       "...            ...  ..     ...   ...\n",
       "2117214      Zyell   M       5  2023\n",
       "2117215       Zyen   M       5  2023\n",
       "2117216     Zymirr   M       5  2023\n",
       "2117217     Zyquan   M       5  2023\n",
       "2117218      Zyrin   M       5  2023\n",
       "\n",
       "[2117219 rows x 4 columns]"
      ]
     },
     "execution_count": 24,
     "metadata": {},
     "output_type": "execute_result"
    }
   ],
   "source": [
    "year_start = 1880\n",
    "year_end   = 2023\n",
    "df_list = []\n",
    "\n",
    "path1 = 'D:/Code/Gitcodes/TWT_AIgroup/Weekly-Cook/Week2/names/data/names/'\n",
    "\n",
    "for i in range(year_start , year_end+1):\n",
    "    path2 = 'yob' + str(i) + '.txt'\n",
    "    path_name =path1 + path2    #文件路径\n",
    "    #print(path_name)\n",
    "\n",
    "    df_temp = pd.read_csv(path_name ,names=['name', 'sex', 'births'])  #读取至临时dataframe\n",
    "    df_temp['year'] = i     #添加year列\n",
    "    df_list.append(df_temp)  #添加至列表\n",
    "\n",
    "df_combined = pd.concat(df_list, ignore_index=True)   #合并\n",
    "df_combined\n",
    "    \n",
    "    \n",
    "\n"
   ]
  },
  {
   "cell_type": "markdown",
   "id": "91b2a99accbe187d",
   "metadata": {
    "collapsed": false
   },
   "source": [
    "以上我们得到了我们最终的数据集的Dataframe，我们可以在这个Dataframe上进行进一步的数据统计与分析。"
   ]
  },
  {
   "cell_type": "markdown",
   "id": "46d8f4bd71a40aa5",
   "metadata": {
    "collapsed": false
   },
   "source": [
    "### 2. 出生数统计与姓名比例计算\n",
    "\n",
    "在得到了包含所有年份的全部姓名数据的Dataframe后，我们在该数据上继续进行操作。我们要按年份统计出各个名字的婴儿相对于当年总出生人数的比例，要进行该操作，首先我们要按照年份与性别（因为名字与性别相关）统计出生人口总数，并将每个名字按照性别的对应人数与之相比。\n",
    "\n",
    "**按年份与性别统计出生人数**\n",
    "\n",
    "我们可以使用`pd.groupby`或者`pd.pivot_table`方法来在年份与性别层级上对数据进行聚合，然后使用`sum()`方法（groupby）或者设置`aggfun`参数（pivot_table）对其进行统计加总，得到按年份与性别的出生人数："
   ]
  },
  {
   "cell_type": "code",
   "execution_count": null,
   "id": "e225da4db4d395e7",
   "metadata": {
    "collapsed": false
   },
   "outputs": [
    {
     "data": {
      "text/plain": [
       "year\n",
       "1880     201484\n",
       "1881     192688\n",
       "1882     221533\n",
       "1883     216945\n",
       "1884     243461\n",
       "         ...   \n",
       "2019    3468791\n",
       "2020    3337845\n",
       "2021    3384687\n",
       "2022    3378611\n",
       "2023    3297246\n",
       "Name: births, Length: 144, dtype: int64"
      ]
     },
     "execution_count": 40,
     "metadata": {},
     "output_type": "execute_result"
    }
   ],
   "source": [
    "#没看懂题\n",
    "total_births_grouped1 = df_combined.groupby(['year']) ['births'].sum() #按年龄\n",
    "total_births_grouped2 = df_combined.groupby(['year','sex'])  #按年龄与性别\n",
    "total_births_grouped1"
   ]
  },
  {
   "cell_type": "markdown",
   "id": "4c3c3115c0ad7bd9",
   "metadata": {
    "collapsed": false
   },
   "source": [
    "然后我们可以进一步画出按年龄的随年份变化的出生人口数的图像，直观的观察每一年的人口变化："
   ]
  },
  {
   "cell_type": "code",
   "execution_count": 33,
   "id": "5ef798555a443d3d",
   "metadata": {
    "collapsed": false
   },
   "outputs": [
    {
     "data": {
      "text/plain": [
       "<Axes: xlabel='year'>"
      ]
     },
     "execution_count": 33,
     "metadata": {},
     "output_type": "execute_result"
    },
    {
     "data": {
      "image/png": "[encoded data removed]",
      "text/plain": [
       "<Figure size 800x550 with 1 Axes>"
      ]
     },
     "metadata": {},
     "output_type": "display_data"
    }
   ],
   "source": [
    "import matplotlib as mpl\n",
    "import matplotlib.pyplot as plt  \n",
    "\n",
    "plt.style.use('seaborn-v0_8') \n",
    "mpl.rcParams['font.family'] = 'serif' \n",
    "\n",
    "total_births_grouped1.plot(x='year', y='births')"
   ]
  },
  {
   "cell_type": "markdown",
   "id": "1e124c54ca71b83",
   "metadata": {
    "collapsed": false
   },
   "source": [
    "**统计新生儿姓名比例**\n",
    "\n",
    "得到出生婴儿总数数据后，我们接下来需要在表中插入一个prop列，用于存放指定名字的婴儿数相对于出生总数的比例。我们项按照年份与性别进行分组，然后计算比例，然后再将这个列添加到各个分组上。"
   ]
  },
  {
   "cell_type": "code",
   "execution_count": null,
   "id": "58bfb643bc57e17c",
   "metadata": {
    "collapsed": false
   },
   "outputs": [
    {
     "data": {
      "text/html": [
       "<div>\n",
       "<style scoped>\n",
       "    .dataframe tbody tr th:only-of-type {\n",
       "        vertical-align: middle;\n",
       "    }\n",
       "\n",
       "    .dataframe tbody tr th {\n",
       "        vertical-align: top;\n",
       "    }\n",
       "\n",
       "    .dataframe thead th {\n",
       "        text-align: right;\n",
       "    }\n",
       "</style>\n",
       "<table border=\"1\" class=\"dataframe\">\n",
       "  <thead>\n",
       "    <tr style=\"text-align: right;\">\n",
       "      <th></th>\n",
       "      <th>name</th>\n",
       "      <th>sex</th>\n",
       "      <th>births</th>\n",
       "      <th>year</th>\n",
       "      <th>prop</th>\n",
       "    </tr>\n",
       "  </thead>\n",
       "  <tbody>\n",
       "    <tr>\n",
       "      <th>0</th>\n",
       "      <td>Mary</td>\n",
       "      <td>F</td>\n",
       "      <td>7065</td>\n",
       "      <td>1880</td>\n",
       "      <td>0.077642</td>\n",
       "    </tr>\n",
       "    <tr>\n",
       "      <th>1</th>\n",
       "      <td>Anna</td>\n",
       "      <td>F</td>\n",
       "      <td>2604</td>\n",
       "      <td>1880</td>\n",
       "      <td>0.028617</td>\n",
       "    </tr>\n",
       "    <tr>\n",
       "      <th>2</th>\n",
       "      <td>Emma</td>\n",
       "      <td>F</td>\n",
       "      <td>2003</td>\n",
       "      <td>1880</td>\n",
       "      <td>0.022012</td>\n",
       "    </tr>\n",
       "    <tr>\n",
       "      <th>3</th>\n",
       "      <td>Elizabeth</td>\n",
       "      <td>F</td>\n",
       "      <td>1939</td>\n",
       "      <td>1880</td>\n",
       "      <td>0.021309</td>\n",
       "    </tr>\n",
       "    <tr>\n",
       "      <th>4</th>\n",
       "      <td>Minnie</td>\n",
       "      <td>F</td>\n",
       "      <td>1746</td>\n",
       "      <td>1880</td>\n",
       "      <td>0.019188</td>\n",
       "    </tr>\n",
       "    <tr>\n",
       "      <th>...</th>\n",
       "      <td>...</td>\n",
       "      <td>...</td>\n",
       "      <td>...</td>\n",
       "      <td>...</td>\n",
       "      <td>...</td>\n",
       "    </tr>\n",
       "    <tr>\n",
       "      <th>2117214</th>\n",
       "      <td>Zyell</td>\n",
       "      <td>M</td>\n",
       "      <td>5</td>\n",
       "      <td>2023</td>\n",
       "      <td>0.000003</td>\n",
       "    </tr>\n",
       "    <tr>\n",
       "      <th>2117215</th>\n",
       "      <td>Zyen</td>\n",
       "      <td>M</td>\n",
       "      <td>5</td>\n",
       "      <td>2023</td>\n",
       "      <td>0.000003</td>\n",
       "    </tr>\n",
       "    <tr>\n",
       "      <th>2117216</th>\n",
       "      <td>Zymirr</td>\n",
       "      <td>M</td>\n",
       "      <td>5</td>\n",
       "      <td>2023</td>\n",
       "      <td>0.000003</td>\n",
       "    </tr>\n",
       "    <tr>\n",
       "      <th>2117217</th>\n",
       "      <td>Zyquan</td>\n",
       "      <td>M</td>\n",
       "      <td>5</td>\n",
       "      <td>2023</td>\n",
       "      <td>0.000003</td>\n",
       "    </tr>\n",
       "    <tr>\n",
       "      <th>2117218</th>\n",
       "      <td>Zyrin</td>\n",
       "      <td>M</td>\n",
       "      <td>5</td>\n",
       "      <td>2023</td>\n",
       "      <td>0.000003</td>\n",
       "    </tr>\n",
       "  </tbody>\n",
       "</table>\n",
       "<p>2117219 rows × 5 columns</p>\n",
       "</div>"
      ],
      "text/plain": [
       "              name sex  births  year      prop\n",
       "0             Mary   F    7065  1880  0.077642\n",
       "1             Anna   F    2604  1880  0.028617\n",
       "2             Emma   F    2003  1880  0.022012\n",
       "3        Elizabeth   F    1939  1880  0.021309\n",
       "4           Minnie   F    1746  1880  0.019188\n",
       "...            ...  ..     ...   ...       ...\n",
       "2117214      Zyell   M       5  2023  0.000003\n",
       "2117215       Zyen   M       5  2023  0.000003\n",
       "2117216     Zymirr   M       5  2023  0.000003\n",
       "2117217     Zyquan   M       5  2023  0.000003\n",
       "2117218      Zyrin   M       5  2023  0.000003\n",
       "\n",
       "[2117219 rows x 5 columns]"
      ]
     },
     "execution_count": 44,
     "metadata": {},
     "output_type": "execute_result"
    }
   ],
   "source": [
    "#不会做 由GPT生成\n",
    "\n",
    "df_combined['prop'] = total_births_grouped2['births'].transform(lambda x: x / x.sum())\n",
    "df_combined"
   ]
  },
  {
   "cell_type": "code",
   "execution_count": null,
   "id": "51a7786a4c20aa86",
   "metadata": {
    "collapsed": false
   },
   "outputs": [],
   "source": []
  },
  {
   "cell_type": "code",
   "execution_count": null,
   "id": "e2009975c3995a4e",
   "metadata": {
    "collapsed": false
   },
   "outputs": [],
   "source": []
  },
  {
   "cell_type": "markdown",
   "id": "c6e196368c4f0f16",
   "metadata": {
    "collapsed": false
   },
   "source": [
    "**数据完整性检验**\n",
    "\n",
    "在对数据进行分组操作后，我们有必要对数据进行一个完整性检验。对于该数据集的一个可能的思路是，我们可以验证所有分组的prop列的和是否为1："
   ]
  },
  {
   "cell_type": "code",
   "execution_count": null,
   "id": "399d653b4e96130d",
   "metadata": {
    "collapsed": false
   },
   "outputs": [
    {
     "data": {
      "text/plain": [
       "year  sex\n",
       "1880  F      1.0\n",
       "      M      1.0\n",
       "1881  F      1.0\n",
       "      M      1.0\n",
       "1882  F      1.0\n",
       "            ... \n",
       "2021  M      1.0\n",
       "2022  F      1.0\n",
       "      M      1.0\n",
       "2023  F      1.0\n",
       "      M      1.0\n",
       "Name: prop, Length: 288, dtype: float64"
      ]
     },
     "execution_count": 45,
     "metadata": {},
     "output_type": "execute_result"
    }
   ],
   "source": [
    "check = df_combined.groupby(['year', 'sex']) ['prop'].sum()\n",
    "check"
   ]
  },
  {
   "cell_type": "markdown",
   "id": "1f76014f205cc452",
   "metadata": {
    "collapsed": false
   },
   "source": [
    "**取数据的子集进行进一步分析**\n",
    "\n",
    "完成完整性检查后，为了便于进一步分析，我们需要取出该数据集的一个子集——对每对sex/year组合的前1000个名字。我们继续进行分组操作："
   ]
  },
  {
   "cell_type": "code",
   "execution_count": 55,
   "id": "9cabb48a2ea7d432",
   "metadata": {
    "collapsed": false
   },
   "outputs": [
    {
     "data": {
      "text/html": [
       "<div>\n",
       "<style scoped>\n",
       "    .dataframe tbody tr th:only-of-type {\n",
       "        vertical-align: middle;\n",
       "    }\n",
       "\n",
       "    .dataframe tbody tr th {\n",
       "        vertical-align: top;\n",
       "    }\n",
       "\n",
       "    .dataframe thead th {\n",
       "        text-align: right;\n",
       "    }\n",
       "</style>\n",
       "<table border=\"1\" class=\"dataframe\">\n",
       "  <thead>\n",
       "    <tr style=\"text-align: right;\">\n",
       "      <th></th>\n",
       "      <th>name</th>\n",
       "      <th>sex</th>\n",
       "      <th>births</th>\n",
       "      <th>year</th>\n",
       "      <th>prop</th>\n",
       "    </tr>\n",
       "  </thead>\n",
       "  <tbody>\n",
       "    <tr>\n",
       "      <th>0</th>\n",
       "      <td>Mary</td>\n",
       "      <td>F</td>\n",
       "      <td>7065</td>\n",
       "      <td>1880</td>\n",
       "      <td>0.077642</td>\n",
       "    </tr>\n",
       "    <tr>\n",
       "      <th>1</th>\n",
       "      <td>Anna</td>\n",
       "      <td>F</td>\n",
       "      <td>2604</td>\n",
       "      <td>1880</td>\n",
       "      <td>0.028617</td>\n",
       "    </tr>\n",
       "    <tr>\n",
       "      <th>2</th>\n",
       "      <td>Emma</td>\n",
       "      <td>F</td>\n",
       "      <td>2003</td>\n",
       "      <td>1880</td>\n",
       "      <td>0.022012</td>\n",
       "    </tr>\n",
       "    <tr>\n",
       "      <th>3</th>\n",
       "      <td>Elizabeth</td>\n",
       "      <td>F</td>\n",
       "      <td>1939</td>\n",
       "      <td>1880</td>\n",
       "      <td>0.021309</td>\n",
       "    </tr>\n",
       "    <tr>\n",
       "      <th>4</th>\n",
       "      <td>Minnie</td>\n",
       "      <td>F</td>\n",
       "      <td>1746</td>\n",
       "      <td>1880</td>\n",
       "      <td>0.019188</td>\n",
       "    </tr>\n",
       "    <tr>\n",
       "      <th>...</th>\n",
       "      <td>...</td>\n",
       "      <td>...</td>\n",
       "      <td>...</td>\n",
       "      <td>...</td>\n",
       "      <td>...</td>\n",
       "    </tr>\n",
       "    <tr>\n",
       "      <th>2104065</th>\n",
       "      <td>Thatcher</td>\n",
       "      <td>M</td>\n",
       "      <td>220</td>\n",
       "      <td>2023</td>\n",
       "      <td>0.000129</td>\n",
       "    </tr>\n",
       "    <tr>\n",
       "      <th>2104066</th>\n",
       "      <td>Abner</td>\n",
       "      <td>M</td>\n",
       "      <td>219</td>\n",
       "      <td>2023</td>\n",
       "      <td>0.000129</td>\n",
       "    </tr>\n",
       "    <tr>\n",
       "      <th>2104067</th>\n",
       "      <td>Cullen</td>\n",
       "      <td>M</td>\n",
       "      <td>219</td>\n",
       "      <td>2023</td>\n",
       "      <td>0.000129</td>\n",
       "    </tr>\n",
       "    <tr>\n",
       "      <th>2104068</th>\n",
       "      <td>Damari</td>\n",
       "      <td>M</td>\n",
       "      <td>219</td>\n",
       "      <td>2023</td>\n",
       "      <td>0.000129</td>\n",
       "    </tr>\n",
       "    <tr>\n",
       "      <th>2104069</th>\n",
       "      <td>Hollis</td>\n",
       "      <td>M</td>\n",
       "      <td>219</td>\n",
       "      <td>2023</td>\n",
       "      <td>0.000129</td>\n",
       "    </tr>\n",
       "  </tbody>\n",
       "</table>\n",
       "<p>287876 rows × 5 columns</p>\n",
       "</div>"
      ],
      "text/plain": [
       "              name sex  births  year      prop\n",
       "0             Mary   F    7065  1880  0.077642\n",
       "1             Anna   F    2604  1880  0.028617\n",
       "2             Emma   F    2003  1880  0.022012\n",
       "3        Elizabeth   F    1939  1880  0.021309\n",
       "4           Minnie   F    1746  1880  0.019188\n",
       "...            ...  ..     ...   ...       ...\n",
       "2104065   Thatcher   M     220  2023  0.000129\n",
       "2104066      Abner   M     219  2023  0.000129\n",
       "2104067     Cullen   M     219  2023  0.000129\n",
       "2104068     Damari   M     219  2023  0.000129\n",
       "2104069     Hollis   M     219  2023  0.000129\n",
       "\n",
       "[287876 rows x 5 columns]"
      ]
     },
     "execution_count": 55,
     "metadata": {},
     "output_type": "execute_result"
    }
   ],
   "source": [
    "df_combined_son = df_combined.groupby(['sex','year']).head(1000)\n",
    "df_combined_son"
   ]
  },
  {
   "cell_type": "code",
   "execution_count": null,
   "id": "4ec2452672e1e0e9",
   "metadata": {
    "collapsed": false
   },
   "outputs": [],
   "source": []
  },
  {
   "cell_type": "markdown",
   "id": "e1b93b2b0b7a7116",
   "metadata": {
    "collapsed": false
   },
   "source": [
    "使用`len()`方法查看数据集的长度"
   ]
  },
  {
   "cell_type": "code",
   "execution_count": null,
   "id": "dac4b2c3b4edd335",
   "metadata": {
    "collapsed": false
   },
   "outputs": [
    {
     "data": {
      "text/plain": [
       "287876"
      ]
     },
     "execution_count": 56,
     "metadata": {},
     "output_type": "execute_result"
    }
   ],
   "source": [
    "len(df_combined_son)\n",
    "#为什么不是1000的倍数"
   ]
  },
  {
   "cell_type": "markdown",
   "id": "3c015b774a3480b6",
   "metadata": {
    "collapsed": false
   },
   "source": [
    "### 3. 分析名字趋势\n",
    "\n",
    "在获得处理完成的数据集后，我们有进一步获得了前1000的数据集，接下来我们就可以着手分析各种名字的趋势了\n",
    "\n",
    "#### 3.1 几个常见男孩与女孩名字的变化趋势\n",
    "\n",
    "首先，我们将前1000个名字按照性别分为男女两个部分，在这里我们运用一个简单的布尔索引即可完成。我们最终可以得到两个简单的时间序列，只需稍作整理就可以绘制出相应的图表。我们首先来看几个常见名字的数量趋势——John、Mary、Harry、Marilyn\n",
    "\n",
    "1. 将top1000的数据分为男女两个部分"
   ]
  },
  {
   "cell_type": "code",
   "execution_count": 71,
   "id": "f4e60840bcd8abb7",
   "metadata": {
    "collapsed": false
   },
   "outputs": [
    {
     "data": {
      "text/html": [
       "<div>\n",
       "<style scoped>\n",
       "    .dataframe tbody tr th:only-of-type {\n",
       "        vertical-align: middle;\n",
       "    }\n",
       "\n",
       "    .dataframe tbody tr th {\n",
       "        vertical-align: top;\n",
       "    }\n",
       "\n",
       "    .dataframe thead th {\n",
       "        text-align: right;\n",
       "    }\n",
       "</style>\n",
       "<table border=\"1\" class=\"dataframe\">\n",
       "  <thead>\n",
       "    <tr style=\"text-align: right;\">\n",
       "      <th></th>\n",
       "      <th>name</th>\n",
       "      <th>sex</th>\n",
       "      <th>births</th>\n",
       "      <th>year</th>\n",
       "      <th>prop</th>\n",
       "    </tr>\n",
       "  </thead>\n",
       "  <tbody>\n",
       "    <tr>\n",
       "      <th>942</th>\n",
       "      <td>John</td>\n",
       "      <td>M</td>\n",
       "      <td>9655</td>\n",
       "      <td>1880</td>\n",
       "      <td>0.087383</td>\n",
       "    </tr>\n",
       "    <tr>\n",
       "      <th>943</th>\n",
       "      <td>William</td>\n",
       "      <td>M</td>\n",
       "      <td>9532</td>\n",
       "      <td>1880</td>\n",
       "      <td>0.086270</td>\n",
       "    </tr>\n",
       "    <tr>\n",
       "      <th>944</th>\n",
       "      <td>James</td>\n",
       "      <td>M</td>\n",
       "      <td>5927</td>\n",
       "      <td>1880</td>\n",
       "      <td>0.053643</td>\n",
       "    </tr>\n",
       "    <tr>\n",
       "      <th>945</th>\n",
       "      <td>Charles</td>\n",
       "      <td>M</td>\n",
       "      <td>5348</td>\n",
       "      <td>1880</td>\n",
       "      <td>0.048403</td>\n",
       "    </tr>\n",
       "    <tr>\n",
       "      <th>946</th>\n",
       "      <td>George</td>\n",
       "      <td>M</td>\n",
       "      <td>5126</td>\n",
       "      <td>1880</td>\n",
       "      <td>0.046393</td>\n",
       "    </tr>\n",
       "    <tr>\n",
       "      <th>...</th>\n",
       "      <td>...</td>\n",
       "      <td>...</td>\n",
       "      <td>...</td>\n",
       "      <td>...</td>\n",
       "      <td>...</td>\n",
       "    </tr>\n",
       "    <tr>\n",
       "      <th>2104065</th>\n",
       "      <td>Thatcher</td>\n",
       "      <td>M</td>\n",
       "      <td>220</td>\n",
       "      <td>2023</td>\n",
       "      <td>0.000129</td>\n",
       "    </tr>\n",
       "    <tr>\n",
       "      <th>2104066</th>\n",
       "      <td>Abner</td>\n",
       "      <td>M</td>\n",
       "      <td>219</td>\n",
       "      <td>2023</td>\n",
       "      <td>0.000129</td>\n",
       "    </tr>\n",
       "    <tr>\n",
       "      <th>2104067</th>\n",
       "      <td>Cullen</td>\n",
       "      <td>M</td>\n",
       "      <td>219</td>\n",
       "      <td>2023</td>\n",
       "      <td>0.000129</td>\n",
       "    </tr>\n",
       "    <tr>\n",
       "      <th>2104068</th>\n",
       "      <td>Damari</td>\n",
       "      <td>M</td>\n",
       "      <td>219</td>\n",
       "      <td>2023</td>\n",
       "      <td>0.000129</td>\n",
       "    </tr>\n",
       "    <tr>\n",
       "      <th>2104069</th>\n",
       "      <td>Hollis</td>\n",
       "      <td>M</td>\n",
       "      <td>219</td>\n",
       "      <td>2023</td>\n",
       "      <td>0.000129</td>\n",
       "    </tr>\n",
       "  </tbody>\n",
       "</table>\n",
       "<p>143996 rows × 5 columns</p>\n",
       "</div>"
      ],
      "text/plain": [
       "             name sex  births  year      prop\n",
       "942          John   M    9655  1880  0.087383\n",
       "943       William   M    9532  1880  0.086270\n",
       "944         James   M    5927  1880  0.053643\n",
       "945       Charles   M    5348  1880  0.048403\n",
       "946        George   M    5126  1880  0.046393\n",
       "...           ...  ..     ...   ...       ...\n",
       "2104065  Thatcher   M     220  2023  0.000129\n",
       "2104066     Abner   M     219  2023  0.000129\n",
       "2104067    Cullen   M     219  2023  0.000129\n",
       "2104068    Damari   M     219  2023  0.000129\n",
       "2104069    Hollis   M     219  2023  0.000129\n",
       "\n",
       "[143996 rows x 5 columns]"
      ]
     },
     "execution_count": 71,
     "metadata": {},
     "output_type": "execute_result"
    }
   ],
   "source": [
    "#命名已经记不住了\n",
    "df_male = df_combined_son[df_combined_son['sex'] == 'M']\n",
    "df_famale = df_combined_son[df_combined_son['sex'] == 'F']\n",
    "df_male\n"
   ]
  },
  {
   "cell_type": "markdown",
   "id": "f2d3db0bdb2a668a",
   "metadata": {
    "collapsed": false
   },
   "source": [
    "2. 生成一张按年与名字统计的总数透表"
   ]
  },
  {
   "cell_type": "code",
   "execution_count": null,
   "id": "5256525685cbe654",
   "metadata": {
    "collapsed": false
   },
   "outputs": [],
   "source": [
    "#学不会了 救救"
   ]
  },
  {
   "cell_type": "markdown",
   "id": "dad1fb4db1f508fe",
   "metadata": {
    "collapsed": false
   },
   "source": [
    "3. 使用`info()`方法查看表格的总体信息，然后使用`plot`方法来绘制几个名字的曲线图"
   ]
  },
  {
   "cell_type": "code",
   "execution_count": null,
   "id": "545821b5ea446c23",
   "metadata": {
    "collapsed": false
   },
   "outputs": [],
   "source": []
  },
  {
   "cell_type": "code",
   "execution_count": null,
   "id": "5294a703ee9061e8",
   "metadata": {
    "collapsed": false
   },
   "outputs": [],
   "source": []
  },
  {
   "cell_type": "markdown",
   "id": "e199e90964593b1",
   "metadata": {
    "collapsed": false
   },
   "source": [
    "*结论：* 从图中可以看出，这几个常见的名字随时间的推移，他们在美国人的心中已经风光不再了。接下来我们将继续探索其中的缘由。 "
   ]
  },
  {
   "cell_type": "markdown",
   "id": "a42a1df2472db764",
   "metadata": {
    "collapsed": false
   },
   "source": [
    "#### 3.2 评估姓名多样性的增长\n",
    "\n",
    "常见姓名趋势下降的一个常见的解释是越来越少的父母愿意给小孩起常见的名字，我们可以从简单的聚合与绘图操作中验证这个解释：\n",
    "\n",
    "1. 计算最流行的1000个名字所占的出生比例"
   ]
  },
  {
   "cell_type": "code",
   "execution_count": null,
   "id": "c42b17191d78f917",
   "metadata": {
    "collapsed": false
   },
   "outputs": [],
   "source": []
  },
  {
   "cell_type": "markdown",
   "id": "7bc4b073f3cae1ff",
   "metadata": {
    "collapsed": false
   },
   "source": [
    "2. 按照性别与年份进行聚合，并绘图"
   ]
  },
  {
   "cell_type": "code",
   "execution_count": null,
   "id": "184be709f04d6316",
   "metadata": {
    "collapsed": false
   },
   "outputs": [],
   "source": []
  },
  {
   "cell_type": "markdown",
   "id": "e91754fd1df14104",
   "metadata": {
    "collapsed": false
   },
   "source": [
    "从图中我们可以看出，名字的多样性确实得到了增长，因为top1000各名字所占的总比例逐渐降低，说明姓名总数增加。另一个可行的办法是我们可以计算占出生人口前50%的不同名字的数量，并按照守护欢迎的程度从高到低进行排序。\n",
    "\n",
    "1. 首先只考虑2010年的男孩名字"
   ]
  },
  {
   "cell_type": "code",
   "execution_count": null,
   "id": "b060f6709b12170a",
   "metadata": {
    "collapsed": false
   },
   "outputs": [],
   "source": []
  },
  {
   "cell_type": "markdown",
   "id": "534b9704911f034e",
   "metadata": {
    "collapsed": false
   },
   "source": [
    "2. 对prop进行降序排列，使用numpy计算需要多少最受欢迎的名字才能使得人数加起来等于50%。先计算prop的累计与`cusum`，然后通过`searchsorted`方法找出0.5应该被插入那个位置才不会破坏顺序"
   ]
  },
  {
   "cell_type": "code",
   "execution_count": null,
   "id": "c3abe1c1fb7cb715",
   "metadata": {
    "collapsed": false
   },
   "outputs": [],
   "source": []
  },
  {
   "cell_type": "markdown",
   "id": "6c13879619d3e3b1",
   "metadata": {
    "collapsed": false
   },
   "source": [
    "3. 对各个year/sex应用该函数。按照这两个字段进行groupby处理，然后通过applu计算各分组的计数。"
   ]
  },
  {
   "cell_type": "code",
   "execution_count": null,
   "id": "72e332b09fd48d3c",
   "metadata": {
    "collapsed": false
   },
   "outputs": [],
   "source": []
  },
  {
   "cell_type": "markdown",
   "id": "e989ee5c29317e44",
   "metadata": {
    "collapsed": false
   },
   "source": [
    "4. 对得到的姓名多样性进行绘图"
   ]
  },
  {
   "cell_type": "code",
   "execution_count": null,
   "id": "b689c26d19a3e08f",
   "metadata": {
    "collapsed": false
   },
   "outputs": [],
   "source": []
  },
  {
   "cell_type": "markdown",
   "id": "99e275ba1dc939a8",
   "metadata": {
    "collapsed": false
   },
   "source": [
    "*结论：* 从图中可以看出，女孩名字总比男孩名字更多样，而且岁之间推移这种多样性的差别还在加大。我们可以继续探究是什么导致/驱动多样性的变化，比如拼写形式的变化。"
   ]
  },
  {
   "cell_type": "markdown",
   "id": "b707a11695b286c0",
   "metadata": {
    "collapsed": false
   },
   "source": [
    "#### 3.3 “One Last Letter”的变化\n",
    "\n",
    "一位婴儿姓名研究人员Laurra Wattenberg在2007年曾指出，近百年来，男孩名字的最后一个字母的分布发生了显著的变化。接下来我们可以来具体的探究一下关于男孩姓名最后一个字母的变革的现象。\n",
    "\n",
    "**各年度分性别的姓名最后一个字母比例统计**\n",
    "\n",
    "为了了解具体的情况，我们首先将全部出生数据按照年度、性别以及末字母进行聚合。我们可以使用`pd.map()`方法来将姓名的尾字母映射到Dataframe上。"
   ]
  },
  {
   "cell_type": "code",
   "execution_count": null,
   "id": "2dacfcb9b13cf2c9",
   "metadata": {
    "collapsed": false
   },
   "outputs": [],
   "source": []
  },
  {
   "cell_type": "code",
   "execution_count": null,
   "id": "dd11445125554e75",
   "metadata": {
    "collapsed": false
   },
   "outputs": [],
   "source": []
  },
  {
   "cell_type": "markdown",
   "id": "5f48fcba8c631ef4",
   "metadata": {
    "collapsed": false
   },
   "source": [
    "我们选取出其中最具代表性的三年——1910、1960、2010，并打印出前三行的数据进行查看"
   ]
  },
  {
   "cell_type": "code",
   "execution_count": null,
   "id": "66a9e9b83074742c",
   "metadata": {
    "collapsed": false
   },
   "outputs": [],
   "source": []
  },
  {
   "cell_type": "markdown",
   "id": "1408f556609519f5",
   "metadata": {
    "collapsed": false
   },
   "source": [
    "接下来，我们统计出生总数，按照出生总数对该表进行标准化处理，以便计算出一个新表格，我们希望其中包括每个字母结尾的性别占出生总人数的比例。"
   ]
  },
  {
   "cell_type": "code",
   "execution_count": null,
   "id": "834061d018287936",
   "metadata": {
    "collapsed": false
   },
   "outputs": [],
   "source": []
  },
  {
   "cell_type": "code",
   "execution_count": null,
   "id": "4e5a98771a2b891a",
   "metadata": {
    "collapsed": false
   },
   "outputs": [],
   "source": []
  },
  {
   "cell_type": "code",
   "execution_count": null,
   "id": "b24b50117fb0fcd8",
   "metadata": {
    "collapsed": false
   },
   "outputs": [],
   "source": []
  },
  {
   "cell_type": "markdown",
   "id": "be4e3243f59a0bc9",
   "metadata": {
    "collapsed": false
   },
   "source": [
    "得到上述比例表后，我们就能够生成一张年度各性别的柱状图："
   ]
  },
  {
   "cell_type": "code",
   "execution_count": null,
   "id": "ba8e029a19d565f",
   "metadata": {
    "collapsed": false
   },
   "outputs": [],
   "source": []
  },
  {
   "cell_type": "markdown",
   "id": "fe58ce47805e4c39",
   "metadata": {
    "collapsed": false
   },
   "source": [
    "可以看出，从20世纪60年代开始，以字母‘n’结尾的男孩姓名出现了显著增长。为了更显示的展示，我们可以使用之前创建的完整表格，按照年度与性别对其进行标准化处理，最后专职将各列转换成时间序列，之后绘制出趋势图。"
   ]
  },
  {
   "cell_type": "code",
   "execution_count": null,
   "id": "ec77d703a4da452c",
   "metadata": {
    "collapsed": false
   },
   "outputs": [],
   "source": []
  },
  {
   "cell_type": "code",
   "execution_count": null,
   "id": "73fc73639bf51941",
   "metadata": {
    "collapsed": false
   },
   "outputs": [],
   "source": []
  },
  {
   "cell_type": "markdown",
   "id": "c013ee267ae6afd2",
   "metadata": {
    "collapsed": false
   },
   "source": [
    "#### 3.4 姓名性别互换（男孩名字变成女孩名字以及相反的情况）\n",
    "\n",
    "除了上述我们探索的几种情况之外，另一个有趣的趋势是早年流行于样本中某个性别的名字进来发生了“变性”，例如：Lesly与Leslie两个名字。我们一这两个名字为例对该现象进行探究。\n",
    "\n",
    "1. 首先我们回到top1000的表格中，计算得到以‘Lesl’开头的名字列表。首先使用`unique`方法得到姓名的列表，及去掉重复的名字，然后选择以‘Lesl’开头的名字。"
   ]
  },
  {
   "cell_type": "code",
   "execution_count": null,
   "id": "d1fa4318096ae1c3",
   "metadata": {
    "collapsed": false
   },
   "outputs": [],
   "source": []
  },
  {
   "cell_type": "code",
   "execution_count": null,
   "id": "a776182d1a52e614",
   "metadata": {
    "collapsed": false
   },
   "outputs": [],
   "source": []
  },
  {
   "cell_type": "code",
   "execution_count": null,
   "id": "b410ae37f042eab8",
   "metadata": {
    "collapsed": false
   },
   "outputs": [],
   "source": []
  },
  {
   "cell_type": "markdown",
   "id": "67536072b8843cb1",
   "metadata": {
    "collapsed": false
   },
   "source": [
    "2. 利用上述结果过滤名字，并且按照名字分组计算出生总数一查看相对频率。"
   ]
  },
  {
   "cell_type": "code",
   "execution_count": null,
   "id": "be3cb5709fbd30e",
   "metadata": {
    "collapsed": false
   },
   "outputs": [],
   "source": []
  },
  {
   "cell_type": "markdown",
   "id": "7b0089d72181170f",
   "metadata": {
    "collapsed": false
   },
   "source": [
    "3. 按照性别与年度进行聚合，并按照年度进行标准化处理。"
   ]
  },
  {
   "cell_type": "code",
   "execution_count": null,
   "id": "7312e95fbe04eea4",
   "metadata": {
    "collapsed": false
   },
   "outputs": [],
   "source": []
  },
  {
   "cell_type": "markdown",
   "id": "3060872530b7909d",
   "metadata": {
    "collapsed": false
   },
   "source": [
    "4. 最终可以绘制出对应的趋势图"
   ]
  },
  {
   "cell_type": "code",
   "execution_count": null,
   "id": "6d055413f161cbab",
   "metadata": {
    "collapsed": false
   },
   "outputs": [],
   "source": []
  },
  {
   "cell_type": "markdown",
   "id": "e5f24c3e729d668b",
   "metadata": {
    "collapsed": false
   },
   "source": [
    "可以看出使用'Lesley'式的名字的趋势的性别比例发生了反转。"
   ]
  },
  {
   "cell_type": "markdown",
   "id": "d36ad025a7a94f2f",
   "metadata": {
    "collapsed": false
   },
   "source": [
    "### 4. 总结\n",
    "\n",
    "请在这里写下你的结论与感悟~\n",
    "我们也期待着大家的建议！"
   ]
  },
  {
   "cell_type": "markdown",
   "id": "f9de6999",
   "metadata": {},
   "source": [
    "导入遇到的问题\n",
    "1.  pd.read_txt()似乎不存在\n",
    "2.  No such file or directory ：在 Jupyter Notebook中，需要确保当前工作目录是正确的。\n",
    "\n",
    "感谢ChatGPT鼎力相助\n",
    "\n",
    "一下午只得到个半成品 还是太看得起我了"
   ]
  },
  {
   "cell_type": "markdown",
   "id": "7d4023123038e162",
   "metadata": {
    "collapsed": false
   },
   "source": [
    "### 附录\n",
    "\n",
    "大家可以在这一部分继续自己对于该数据集的探索，我们鼓励大家自己进行数据探索并得到一些有趣的结论~ "
   ]
  }
 ],
 "metadata": {
  "kernelspec": {
   "display_name": "base",
   "language": "python",
   "name": "python3"
  },
  "language_info": {
   "codemirror_mode": {
    "name": "ipython",
    "version": 3
   },
   "file_extension": ".py",
   "mimetype": "text/x-python",
   "name": "python",
   "nbconvert_exporter": "python",
   "pygments_lexer": "ipython3",
   "version": "3.12.7"
  }
 },
 "nbformat": 4,
 "nbformat_minor": 5
}
